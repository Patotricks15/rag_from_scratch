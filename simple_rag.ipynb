{
 "cells": [
  {
   "cell_type": "code",
   "execution_count": 1,
   "metadata": {},
   "outputs": [
    {
     "name": "stderr",
     "output_type": "stream",
     "text": [
      "/home/patrick/rag_from_scratch/venv/lib/python3.12/site-packages/tqdm/auto.py:21: TqdmWarning: IProgress not found. Please update jupyter and ipywidgets. See https://ipywidgets.readthedocs.io/en/stable/user_install.html\n",
      "  from .autonotebook import tqdm as notebook_tqdm\n"
     ]
    }
   ],
   "source": [
    "import fitz\n",
    "import os\n",
    "import numpy as np\n",
    "import json\n",
    "from openai import OpenAI\n",
    "import torch\n",
    "from sentence_transformers import SentenceTransformer"
   ]
  },
  {
   "cell_type": "code",
   "execution_count": 2,
   "metadata": {},
   "outputs": [
    {
     "data": {
      "text/plain": [
       "True"
      ]
     },
     "execution_count": 2,
     "metadata": {},
     "output_type": "execute_result"
    }
   ],
   "source": [
    "from dotenv import load_dotenv\n",
    "load_dotenv()"
   ]
  },
  {
   "cell_type": "code",
   "execution_count": 3,
   "metadata": {},
   "outputs": [],
   "source": [
    "client = OpenAI(\n",
    "    api_key=os.getenv(\"OPENAI_API_KEY\")\n",
    ")"
   ]
  },
  {
   "cell_type": "code",
   "execution_count": 4,
   "metadata": {},
   "outputs": [],
   "source": [
    "# Load the pre-trained model\n",
    "embedder = SentenceTransformer(\"all-MiniLM-L6-v2\") # Fazer o embedding usando esse"
   ]
  },
  {
   "cell_type": "code",
   "execution_count": 5,
   "metadata": {},
   "outputs": [],
   "source": [
    "pdf_path = \"/home/patrick/rag_from_scratch/AI_Information.pdf\""
   ]
  },
  {
   "cell_type": "markdown",
   "metadata": {},
   "source": [
    "Extracting the text from pdf file"
   ]
  },
  {
   "cell_type": "code",
   "execution_count": 6,
   "metadata": {},
   "outputs": [],
   "source": [
    "def extract_text_from_pdf(pdf_path):\n",
    "    mypdf = fitz.open(pdf_path)\n",
    "    all_text = \"\" # Initizalizing an empty string to store the extarcted text\n",
    "\n",
    "    # Iterating through each page in the pdf\n",
    "    for page_num in range(mypdf.page_count):\n",
    "        page = mypdf[page_num]\n",
    "        text = page.get_text(\"text\")\n",
    "        all_text += text\n",
    "\n",
    "    return all_text"
   ]
  },
  {
   "cell_type": "code",
   "execution_count": 7,
   "metadata": {},
   "outputs": [],
   "source": [
    "def chunk_text(text, n, overlap):\n",
    "    chunks = []\n",
    "\n",
    "    for i in range(0, len(text), n - overlap):\n",
    "        chunks.append(text[i:i+n])\n",
    "\n",
    "    return chunks"
   ]
  },
  {
   "cell_type": "code",
   "execution_count": 8,
   "metadata": {},
   "outputs": [],
   "source": [
    "text = extract_text_from_pdf(pdf_path)"
   ]
  },
  {
   "cell_type": "code",
   "execution_count": 9,
   "metadata": {},
   "outputs": [],
   "source": [
    "text_chunks = chunk_text(text, 1000, 100)"
   ]
  },
  {
   "cell_type": "code",
   "execution_count": 10,
   "metadata": {},
   "outputs": [
    {
     "name": "stdout",
     "output_type": "stream",
     "text": [
      "Number of text chunks: 38\n",
      "\n",
      "First text chunk:\n",
      "Understanding Artificial Intelligence \n",
      "Chapter 1: Introduction to Artificial Intelligence \n",
      "Artificial intelligence (AI) refers to the ability of a digital computer or computer-controlled robot \n",
      "to perform tasks commonly associated with intelligent beings. The term is frequently applied to \n",
      "the project of developing systems endowed with the intellectual processes characteristic of \n",
      "humans, such as the ability to reason, discover meaning, generalize, or learn from past \n",
      "experience. Over the past few decades, advancements in computing power and data availability \n",
      "have significantly accelerated the development and deployment of AI. \n",
      "Historical Context \n",
      "The idea of artificial intelligence has existed for centuries, often depicted in myths and fiction. \n",
      "However, the formal field of AI research began in the mid-20th century. The Dartmouth Workshop \n",
      "in 1956 is widely considered the birthplace of AI. Early AI research focused on problem-solving \n",
      "and symbolic methods. The 1980s saw a rise in exp\n"
     ]
    }
   ],
   "source": [
    "\n",
    "print(\"Number of text chunks:\", len(text_chunks))\n",
    "\n",
    "print(\"\\nFirst text chunk:\")\n",
    "print(text_chunks[0])"
   ]
  },
  {
   "cell_type": "code",
   "execution_count": null,
   "metadata": {},
   "outputs": [],
   "source": []
  },
  {
   "cell_type": "code",
   "execution_count": 11,
   "metadata": {},
   "outputs": [],
   "source": [
    "def create_embeddings(text):\n",
    "    response = embedder.encode(text)\n",
    "    return response\n",
    "\n",
    "response = create_embeddings(text_chunks)"
   ]
  },
  {
   "cell_type": "code",
   "execution_count": 12,
   "metadata": {},
   "outputs": [
    {
     "data": {
      "text/plain": [
       "array([[-0.05094514,  0.01012436,  0.0405515 , ...,  0.14755581,\n",
       "         0.01451863, -0.04068931],\n",
       "       [-0.06135775, -0.0272468 ,  0.02331264, ...,  0.00723255,\n",
       "         0.01329521, -0.04890287],\n",
       "       [-0.05693215,  0.00113145, -0.03345631, ...,  0.00174798,\n",
       "         0.00373301, -0.01378473],\n",
       "       ...,\n",
       "       [ 0.01580146, -0.06684798, -0.00377489, ..., -0.00862874,\n",
       "        -0.01902532, -0.00202416],\n",
       "       [-0.02450312,  0.07355722, -0.01570883, ..., -0.0277919 ,\n",
       "        -0.0052187 , -0.00850473],\n",
       "       [ 0.00582304,  0.00249693,  0.00914683, ...,  0.03049997,\n",
       "         0.04059248, -0.02348365]], shape=(38, 384), dtype=float32)"
      ]
     },
     "execution_count": 12,
     "metadata": {},
     "output_type": "execute_result"
    }
   ],
   "source": [
    "response"
   ]
  },
  {
   "cell_type": "code",
   "execution_count": 14,
   "metadata": {},
   "outputs": [],
   "source": [
    "def cosine_similarity(vec1, vec2):\n",
    "    return np.dot(vec1, vec2) / (np.linalg.norm(vec1) * np.linalg.norm(vec2))"
   ]
  },
  {
   "cell_type": "code",
   "execution_count": 15,
   "metadata": {},
   "outputs": [],
   "source": [
    "def semantic_search(query, text_chunks, embeddings, k=5):\n",
    "    query_embedding = create_embeddings(query)\n",
    "    similarity_scores = []\n",
    "\n",
    "    for i, chunk_embedding in enumerate(embeddings):\n",
    "        similarity_score = cosine_similarity(np.array(query_embedding), np.array(chunk_embedding))\n",
    "        similarity_scores.append((i, similarity_score))\n",
    "\n",
    "    similarity_scores.sort(key=lambda x: x[1], reverse=True)\n",
    "    top_indices = [index for index, _ in similarity_scores[:k]]\n",
    "    return [text_chunks[index] for index in top_indices]"
   ]
  },
  {
   "cell_type": "code",
   "execution_count": 16,
   "metadata": {},
   "outputs": [
    {
     "name": "stdout",
     "output_type": "stream",
     "text": [
      "Query: What is 'Explainable AI' and why is it considered important?\n",
      "Context 1:\n",
      "eal-time data, identify \n",
      "pollution sources, and inform environmental policies. \n",
      "Chapter 15: The Future of AI Research \n",
      "Advancements in Deep Learning \n",
      "Continued advancements in deep learning are expected to drive further breakthroughs in AI. \n",
      "Research is focused on developing more efficient and interpretable deep learning models, as well \n",
      "as exploring new architectures and training techniques. \n",
      "Explainable AI (XAI) \n",
      "Explainable AI (XAI) aims to make AI systems more transparent and understandable. Research in \n",
      "XAI focuses on developing methods for explaining AI decisions, enhancing trust, and improving \n",
      "accountability. \n",
      "AI and Neuroscience \n",
      "The intersection of AI and neuroscience is a promising area of research. Understanding the \n",
      "human brain can inspire new AI algorithms and architectures, while AI can provide insights into \n",
      "brain function and cognition. \n",
      "AI Safety and Security \n",
      "Ensuring the safety and security of AI systems is a critical area of research. This includes \n",
      "developing meth\n",
      "=====================================\n",
      "Context 2:\n",
      "nt aligns with societal values. Education and awareness campaigns inform the public \n",
      "about AI, its impacts, and its potential. \n",
      "Chapter 19: AI and Ethics \n",
      "Principles of Ethical AI \n",
      "Ethical AI principles guide the development and deployment of AI systems to ensure they are fair, \n",
      "transparent, accountable, and beneficial to society. Key principles include respect for human \n",
      "rights, privacy, non-discrimination, and beneficence. \n",
      " \n",
      " \n",
      "Addressing Bias in AI \n",
      "AI systems can inherit and amplify biases present in the data they are trained on, leading to unfair \n",
      "or discriminatory outcomes. Addressing bias requires careful data collection, algorithm design, \n",
      "and ongoing monitoring and evaluation. \n",
      "Transparency and Explainability \n",
      "Transparency and explainability are essential for building trust in AI systems. Explainable AI (XAI) \n",
      "techniques aim to make AI decisions more understandable, enabling users to assess their \n",
      "fairness and accuracy. \n",
      "Privacy and Data Protection \n",
      "AI systems often rely on la\n",
      "=====================================\n"
     ]
    }
   ],
   "source": [
    "with open('val.json') as f:\n",
    "    data = json.load(f)\n",
    "query = data[0]['question']\n",
    "\n",
    "top_chunks = semantic_search(query, text_chunks, response, k=2)\n",
    "\n",
    "print(\"Query:\", query)\n",
    "\n",
    "for i, chunk in enumerate(top_chunks):\n",
    "    print(f\"Context {i + 1}:\\n{chunk}\\n=====================================\")"
   ]
  },
  {
   "cell_type": "code",
   "execution_count": 17,
   "metadata": {},
   "outputs": [],
   "source": [
    "system_prompt = \"You are an AI assistant that strictly answers based on the given context. If the answer cannot be derived directly from the provided context, respond with: 'I do not have enough information to answer that.'\"\n",
    "\n",
    "def generate_response(system_prompt, user_message, model=\"gpt-3.5-turbo-1106\"):\n",
    "    response = client.chat.completions.create(\n",
    "        model=model,\n",
    "        temperature=0,\n",
    "        messages=[\n",
    "            {\"role\": \"system\", \"content\": system_prompt},\n",
    "            {\"role\": \"user\", \"content\": user_message}\n",
    "        ]\n",
    "    )\n",
    "    return response\n",
    "\n",
    "user_prompt = \"\\n\".join([f\"Context {i + 1}:\\n{chunk}\\n=====================================\\n\" for i, chunk in enumerate(top_chunks)])\n",
    "user_prompt = f\"{user_prompt}\\nQuestion: {query}\"\n",
    "\n",
    "ai_response = generate_response(system_prompt, user_prompt)"
   ]
  },
  {
   "cell_type": "code",
   "execution_count": 18,
   "metadata": {},
   "outputs": [
    {
     "data": {
      "text/plain": [
       "'Explainable AI (XAI) aims to make AI systems more transparent and understandable. It is considered important because it focuses on developing methods for explaining AI decisions, enhancing trust, and improving accountability.'"
      ]
     },
     "execution_count": 18,
     "metadata": {},
     "output_type": "execute_result"
    }
   ],
   "source": [
    "ai_response.choices[0].message.content"
   ]
  },
  {
   "cell_type": "code",
   "execution_count": 19,
   "metadata": {},
   "outputs": [
    {
     "name": "stdout",
     "output_type": "stream",
     "text": [
      "The AI response is very close to the true response, capturing the essence of Explainable AI and its importance. It correctly mentions that Explainable AI aims to make AI systems more transparent and understandable, and it highlights the importance of building trust and accountability. Therefore, the score is 1.\n"
     ]
    }
   ],
   "source": [
    "evaluate_system_prompt = \"You are an intelligent evaluation system tasked with assessing the AI assistant's responses. If the AI assistant's response is very close to the true response, assign a score of 1. If the response is incorrect or unsatisfactory in relation to the true response, assign a score of 0. If the response is partially aligned with the true response, assign a score of 0.5.\"\n",
    "\n",
    "evaluation_prompt = f\"User Query: {query}\\nAI Response:\\n{ai_response.choices[0].message.content}\\nTrue Response: {data[0]['ideal_answer']}\\n{evaluate_system_prompt}\"\n",
    "\n",
    "evaluation_response = generate_response(evaluate_system_prompt, evaluation_prompt)\n",
    "\n",
    "print(evaluation_response.choices[0].message.content)"
   ]
  },
  {
   "cell_type": "code",
   "execution_count": null,
   "metadata": {},
   "outputs": [],
   "source": []
  },
  {
   "cell_type": "code",
   "execution_count": null,
   "metadata": {},
   "outputs": [],
   "source": []
  },
  {
   "cell_type": "code",
   "execution_count": 20,
   "metadata": {},
   "outputs": [],
   "source": [
    "import json\n",
    "import asyncio\n",
    "import numpy as np\n",
    "import pandas as pd\n",
    "from sentence_transformers import SentenceTransformer, SimilarityFunction\n",
    "\n",
    "# Initialize the SentenceTransformer model and set the similarity function\n",
    "model = SentenceTransformer(\"all-MiniLM-L6-v2\")\n",
    "model.similarity_fn_name = SimilarityFunction.DOT"
   ]
  },
  {
   "cell_type": "code",
   "execution_count": 23,
   "metadata": {},
   "outputs": [],
   "source": [
    "async def process_validation_data(k):\n",
    "    system_prompt = \"\"\"You are an AI assistant that strictly answers based on the given context. If the answer cannot be derived directly and exactly from the provided context, respond with: 'I do not have enough information to answer that.'\n",
    "    First think about the keywords from the question and then use them to elaborate the answer.\n",
    "    The response needs to be just the answer sentence\n",
    "    \n",
    "    \"\"\"\n",
    "    # Load the validation data from the JSON file\n",
    "    with open('val.json') as f:\n",
    "        data = json.load(f)\n",
    "\n",
    "    # List to store the results for each sample\n",
    "    results = []\n",
    "\n",
    "    # Iterate over each example in the validation data\n",
    "    for idx, item in enumerate(data):\n",
    "        query = item['question']\n",
    "        ideal_answer = item['ideal_answer']\n",
    "        \n",
    "        # Retrieve the top k most relevant context chunks\n",
    "        top_chunks = semantic_search(query, text_chunks, response, k=k)\n",
    "        \n",
    "        # Create the user prompt by combining all context chunks and the query\n",
    "        context_prompt = \"\\n\".join([\n",
    "            f\"Context {i + 1}:\\n{chunk}\\n=====================================\\n\"\n",
    "            for i, chunk in enumerate(top_chunks)\n",
    "        ])\n",
    "        user_prompt = f\"{context_prompt}\\nQuestion: {query}\"\n",
    "        \n",
    "        # Generate the AI response using the system prompt and the user prompt\n",
    "        ai_response = generate_response(system_prompt, user_prompt).choices[0].message.content\n",
    "        \n",
    "        # Evaluate similarity using SentenceTransformer\n",
    "        # Encode the AI response and ideal answer\n",
    "        embedding_response = model.encode([ai_response])\n",
    "        embedding_ideal = model.encode([ideal_answer])\n",
    "        # Compute similarity score (result is a 1x1 matrix; extract the single value)\n",
    "        similarity_matrix = model.similarity(embedding_response, embedding_ideal)\n",
    "        score = similarity_matrix[0][0].numpy()\n",
    "        \n",
    "        # Prepare the result dictionary with dynamic context columns\n",
    "        result = {\n",
    "            \"Query\": query,\n",
    "            \"Ideal Answer\": ideal_answer,\n",
    "            \"AI Response\": ai_response,\n",
    "            \"Score\": score\n",
    "        }\n",
    "        # Add each context as its own column\n",
    "        for i, chunk in enumerate(top_chunks):\n",
    "            result[f\"Context {i + 1}\"] = chunk\n",
    "        \n",
    "        # Append the result to the list\n",
    "        results.append(result)\n",
    "\n",
    "    # Create a DataFrame from the results\n",
    "    df = pd.DataFrame(results)\n",
    "    return df"
   ]
  },
  {
   "cell_type": "code",
   "execution_count": 27,
   "metadata": {},
   "outputs": [],
   "source": [
    "import nest_asyncio\n",
    "nest_asyncio.apply()"
   ]
  },
  {
   "cell_type": "code",
   "execution_count": 28,
   "metadata": {},
   "outputs": [
    {
     "data": {
      "application/vnd.microsoft.datawrangler.viewer.v0+json": {
       "columns": [
        {
         "name": "index",
         "rawType": "int64",
         "type": "integer"
        },
        {
         "name": "Query",
         "rawType": "object",
         "type": "string"
        },
        {
         "name": "Ideal Answer",
         "rawType": "object",
         "type": "string"
        },
        {
         "name": "AI Response",
         "rawType": "object",
         "type": "string"
        },
        {
         "name": "Score",
         "rawType": "object",
         "type": "unknown"
        },
        {
         "name": "Context 1",
         "rawType": "object",
         "type": "string"
        },
        {
         "name": "Context 2",
         "rawType": "object",
         "type": "string"
        }
       ],
       "conversionMethod": "pd.DataFrame",
       "ref": "2c2d2679-52d9-475c-b59c-7dc9b382933a",
       "rows": [
        [
         "0",
         "What is 'Explainable AI' and why is it considered important?",
         "Explainable AI (XAI) aims to make AI systems more transparent and understandable, providing insights into how they make decisions. It's considered important for building trust, accountability, and ensuring fairness in AI systems.",
         "Explainable AI (XAI) aims to make AI systems more transparent and understandable. It is considered important because it focuses on developing methods for explaining AI decisions, enhancing trust, and improving accountability.",
         "0.9859673",
         "eal-time data, identify \npollution sources, and inform environmental policies. \nChapter 15: The Future of AI Research \nAdvancements in Deep Learning \nContinued advancements in deep learning are expected to drive further breakthroughs in AI. \nResearch is focused on developing more efficient and interpretable deep learning models, as well \nas exploring new architectures and training techniques. \nExplainable AI (XAI) \nExplainable AI (XAI) aims to make AI systems more transparent and understandable. Research in \nXAI focuses on developing methods for explaining AI decisions, enhancing trust, and improving \naccountability. \nAI and Neuroscience \nThe intersection of AI and neuroscience is a promising area of research. Understanding the \nhuman brain can inspire new AI algorithms and architectures, while AI can provide insights into \nbrain function and cognition. \nAI Safety and Security \nEnsuring the safety and security of AI systems is a critical area of research. This includes \ndeveloping meth",
         "nt aligns with societal values. Education and awareness campaigns inform the public \nabout AI, its impacts, and its potential. \nChapter 19: AI and Ethics \nPrinciples of Ethical AI \nEthical AI principles guide the development and deployment of AI systems to ensure they are fair, \ntransparent, accountable, and beneficial to society. Key principles include respect for human \nrights, privacy, non-discrimination, and beneficence. \n \n \nAddressing Bias in AI \nAI systems can inherit and amplify biases present in the data they are trained on, leading to unfair \nor discriminatory outcomes. Addressing bias requires careful data collection, algorithm design, \nand ongoing monitoring and evaluation. \nTransparency and Explainability \nTransparency and explainability are essential for building trust in AI systems. Explainable AI (XAI) \ntechniques aim to make AI decisions more understandable, enabling users to assess their \nfairness and accuracy. \nPrivacy and Data Protection \nAI systems often rely on la"
        ],
        [
         "1",
         "Can AI be used to predict earthquakes?",
         "I don't have enough information to answer that.",
         "I do not have enough information to answer that.",
         "0.9543278",
         "ts that support conservation efforts. \n \n \nEnvironmental Monitoring \nAI-powered environmental monitoring systems track air and water quality, detect pollution, and \nsupport environmental protection efforts. These systems provide real-time data, identify \npollution sources, and inform environmental policies. \nDisaster Response \nAI enhances disaster response by analyzing data, predicting impacts, and supporting relief \nefforts. AI-powered systems improve situational awareness, optimize resource allocation, and \nenhance coordination among responders. \nChapter 18: The Role of Government and Policy in AI \nAI Strategy and Policy Frameworks \nGovernments around the world are developing AI strategies and policy frameworks to guide the \ndevelopment and deployment of AI. These frameworks address ethical considerations, promote \ninnovation, and ensure responsible AI practices. \nRegulation of AI \nThe regulation of AI is a complex and evolving area. Governments are considering regulations to \naddres",
         " AI. Early AI research focused on problem-solving \nand symbolic methods. The 1980s saw a rise in expert systems, while the 1990s and 2000s \nbrought advancements in machine learning and neural networks. Recent breakthroughs in deep \nlearning have revolutionized the field. \nModern Observations \nModern AI systems are increasingly prevalent in everyday life. From virtual assistants like Siri and \nAlexa to recommendation algorithms on streaming services and social media, AI is impacting \nhow we live, work, and interact. The development of self-driving cars, advanced medical \ndiagnostics, and sophisticated financial modeling tools demonstrates the broad and growing \napplications of AI. Concerns about ethical implications, bias, and job displacement are also \nincreasingly prominent. \nChapter 2: Core Concepts of Artificial Intelligence \nMachine Learning \nMachine learning (ML) is a subset of AI that focuses on enabling systems to learn from data \nwithout being explicitly programmed. ML algorith"
        ],
        [
         "2",
         "What are some of the ethical concerns related to AI-powered facial recognition?",
         "I don't have enough information to answer that.",
         "Bias and fairness, transparency and explainability, privacy and security, autonomy and control, and potential unintended consequences are some of the ethical concerns related to AI-powered facial recognition.",
         "0.19652365",
         "he entertainment industry uses AI for content recommendation, game development, and virtual \nreality experiences. AI algorithms analyze user preferences to suggest movies, music, and \ngames, enhancing user engagement. \nCybersecurity \nAI is used in cybersecurity to detect and respond to threats, analyze network traffic, and identify \nvulnerabilities. AI-powered systems can automate security tasks, improve threat detection \naccuracy, and enhance overall cybersecurity posture. \nChapter 4: Ethical and Societal Implications of AI \nThe rapid development and deployment of AI raise significant ethical and societal concerns. \nThese concerns include: \nBias and Fairness \nAI systems can inherit and amplify biases present in the data they are trained on, leading to unfair \nor discriminatory outcomes. Ensuring fairness and mitigating bias in AI systems is a critical \nchallenge. \nTransparency and Explainability \nMany AI systems, particularly deep learning models, are \"black boxes,\" making it difficul",
         "inability \nMany AI systems, particularly deep learning models, are \"black boxes,\" making it difficult to \nunderstand how they arrive at their decisions. Enhancing transparency and explainability is \ncrucial for building trust and accountability. \n \n \nPrivacy and Security \nAI systems often rely on large amounts of data, raising concerns about privacy and data security. \nProtecting sensitive information and ensuring responsible data handling are essential. \nJob Displacement \nThe automation capabilities of AI have raised concerns about job displacement, particularly in \nindustries with repetitive or routine tasks. Addressing the potential economic and social impacts \nof AI-driven automation is a key challenge. \nAutonomy and Control \nAs AI systems become more autonomous, questions arise about control, accountability, and the \npotential for unintended consequences. Establishing clear guidelines and ethical frameworks for \nAI development and deployment is crucial. \nWeaponization of AI \nThe p"
        ],
        [
         "3",
         "How does AI contribute to personalized medicine?",
         "AI enables personalized medicine by analyzing individual patient data, predicting treatment responses, and tailoring interventions to specific needs. This enhances treatment effectiveness and reduces adverse effects.",
         "AI contributes to personalized medicine by analyzing individual patient data, predicting treatment responses, and tailoring interventions.",
         "0.9515934",
         "ng areas for improvement. \nEducational Data Mining \nEducational data mining uses AI to analyze student data, identify patterns, and predict learning \noutcomes. This information can inform instructional strategies, improve educational programs, \nand enhance student support services. \n \nChapter 11: AI and Healthcare \nMedical Diagnosis and Treatment \nAI is revolutionizing medical diagnosis and treatment by analyzing medical images, predicting \npatient outcomes, and assisting in treatment planning. AI-powered tools enhance accuracy, \nefficiency, and patient care. \nDrug Discovery and Development \nAI accelerates drug discovery and development by analyzing biological data, predicting drug \nefficacy, and identifying potential drug candidates. AI-powered systems reduce the time and cost \nof bringing new treatments to market. \nPersonalized Medicine \nAI enables personalized medicine by analyzing individual patient data, predicting treatment \nresponses, and tailoring interventions. Personalized me",
         " is used in self-driving cars, medical imaging, and surveillance systems. \nChapter 3: Applications of Artificial Intelligence \nThe applications of AI are vast and continue to expand across various industries and domains. \nThese applications include: \nHealthcare \nAI is transforming healthcare through applications such as medical diagnosis, drug discovery, \npersonalized medicine, and robotic surgery. AI-powered tools can analyze medical images, \npredict patient outcomes, and assist in treatment planning. \nFinance \nIn finance, AI is used for fraud detection, algorithmic trading, risk management, and customer \nservice. AI algorithms can analyze large datasets to identify patterns, predict market trends, and \nautomate financial processes. \n \nTransportation \nAI is revolutionizing transportation with the development of self-driving cars, traffic optimization \nsystems, and logistics management. Autonomous vehicles use AI to perceive their surroundings, \nmake driving decisions, and navigate saf"
        ],
        [
         "4",
         "Does the document mention any specific companies developing AI technology?",
         "I don't have enough information to answer that.",
         "I do not have enough information to answer that.",
         "0.9543278",
         "Understanding Artificial Intelligence \nChapter 1: Introduction to Artificial Intelligence \nArtificial intelligence (AI) refers to the ability of a digital computer or computer-controlled robot \nto perform tasks commonly associated with intelligent beings. The term is frequently applied to \nthe project of developing systems endowed with the intellectual processes characteristic of \nhumans, such as the ability to reason, discover meaning, generalize, or learn from past \nexperience. Over the past few decades, advancements in computing power and data availability \nhave significantly accelerated the development and deployment of AI. \nHistorical Context \nThe idea of artificial intelligence has existed for centuries, often depicted in myths and fiction. \nHowever, the formal field of AI research began in the mid-20th century. The Dartmouth Workshop \nin 1956 is widely considered the birthplace of AI. Early AI research focused on problem-solving \nand symbolic methods. The 1980s saw a rise in exp",
         " regulation of AI is a complex and evolving area. Governments are considering regulations to \naddress issues such as bias, transparency, privacy, and safety. Balancing innovation with ethical \nconsiderations is a key challenge. \nFunding for AI Research and Development \nGovernments play a crucial role in funding AI research and development. Public funding supports \nbasic research, applied research, and the development of AI infrastructure. Government \ninvestments drive innovation and foster collaboration. \nInternational Cooperation \nInternational cooperation is essential for addressing the global challenges and opportunities \npresented by AI. This includes sharing knowledge, developing standards, and promoting \nresponsible AI practices across borders. \nPublic Engagement and Education \nEngaging the public in discussions about AI is crucial for building trust and ensuring that AI \ndevelopment aligns with societal values. Education and awareness campaigns inform the public \nabout AI, its i"
        ],
        [
         "5",
         "What is the role of AI in smart grids?",
         "AI optimizes energy distribution in smart grids by enabling real-time monitoring, demand response, and integration of distributed energy resources. This enhances grid reliability, reduces energy waste, and supports renewable energy.",
         "AI optimizes energy management in smart cities by predicting demand, managing supply, and promoting energy efficiency. AI-powered systems enhance grid stability, reduce energy waste, and support the integration of renewable energy sources.",
         "0.7971191",
         "estion, and enhance \npublic transit. These systems use real-time data to manage traffic signals, provide route \nrecommendations, and support autonomous vehicles. \nEnergy Management \nAI optimizes energy management in smart cities by predicting demand, managing supply, and \npromoting energy efficiency. AI-powered systems enhance grid stability, reduce energy waste, \nand support the integration of renewable energy sources. \nPublic Safety and Security \nAI enhances public safety and security in smart cities by monitoring public spaces, detecting \nanomalies, and supporting emergency response. AI-powered systems improve crime prevention, \nenhance situational awareness, and support rapid response to incidents. \nEnvironmental Monitoring \nAI-powered environmental monitoring systems track air and water quality, detect pollution, and \nsupport environmental protection efforts. These systems provide real-time data, identify \npollution sources, and inform environmental policies. \nChapter 15: The Futu",
         "ts that support conservation efforts. \n \n \nEnvironmental Monitoring \nAI-powered environmental monitoring systems track air and water quality, detect pollution, and \nsupport environmental protection efforts. These systems provide real-time data, identify \npollution sources, and inform environmental policies. \nDisaster Response \nAI enhances disaster response by analyzing data, predicting impacts, and supporting relief \nefforts. AI-powered systems improve situational awareness, optimize resource allocation, and \nenhance coordination among responders. \nChapter 18: The Role of Government and Policy in AI \nAI Strategy and Policy Frameworks \nGovernments around the world are developing AI strategies and policy frameworks to guide the \ndevelopment and deployment of AI. These frameworks address ethical considerations, promote \ninnovation, and ensure responsible AI practices. \nRegulation of AI \nThe regulation of AI is a complex and evolving area. Governments are considering regulations to \naddres"
        ],
        [
         "6",
         "Can AI write a complete, original novel?",
         "I don't have enough information to answer that.",
         "AI is used to write articles, generate content, and create scripts. AI-powered writing tools can assist writers with research, editing, and content generation, enhancing productivity and creativity.",
         "0.04168408",
         "existing art and generate new pieces that exhibit unique styles and \npatterns. \nAI in Music Composition \nAI is used to compose music, generate melodies, and create arrangements. AI-powered tools can \nassist musicians in the creative process, offering new possibilities for musical expression. \nAI in Writing and Content Creation \nAI is used to write articles, generate content, and create scripts. AI-powered writing tools can \nassist writers with research, editing, and content generation, enhancing productivity and \ncreativity. \nAI-Driven Innovation \nAI accelerates innovation by analyzing large datasets, identifying patterns, and generating new \nideas. AI-powered tools are used in research and development, product design, and problem-\nsolving across various industries. \nChapter 10: AI and Education \nPersonalized Learning \nAI enables personalized learning experiences by adapting to individual student needs and \nlearning styles. AI-powered platforms provide customized content, feedback, and",
         "Understanding Artificial Intelligence \nChapter 1: Introduction to Artificial Intelligence \nArtificial intelligence (AI) refers to the ability of a digital computer or computer-controlled robot \nto perform tasks commonly associated with intelligent beings. The term is frequently applied to \nthe project of developing systems endowed with the intellectual processes characteristic of \nhumans, such as the ability to reason, discover meaning, generalize, or learn from past \nexperience. Over the past few decades, advancements in computing power and data availability \nhave significantly accelerated the development and deployment of AI. \nHistorical Context \nThe idea of artificial intelligence has existed for centuries, often depicted in myths and fiction. \nHowever, the formal field of AI research began in the mid-20th century. The Dartmouth Workshop \nin 1956 is widely considered the birthplace of AI. Early AI research focused on problem-solving \nand symbolic methods. The 1980s saw a rise in exp"
        ],
        [
         "7",
         "What is a 'cobot'?",
         "It mentions collaborative settings (cobots) in industrial robots.",
         "A 'cobot' is a type of industrial robot that works alongside humans in collaborative settings.",
         "0.74303055",
         " adapt to changing \nenvironments, and interact with humans more naturally. AI-powered robots are used in \nmanufacturing, healthcare, logistics, and exploration. \nTypes of Robots \nIndustrial Robots \nIndustrial robots are used in manufacturing for tasks such as welding, painting, assembly, and \nmaterial handling. AI enhances their precision, efficiency, and adaptability, allowing them to work \nalongside humans in collaborative settings (cobots). \nService Robots \nService robots assist humans in various tasks, including cleaning, delivery, customer service, and \nhealthcare. AI enables these robots to navigate, interact with people, and perform tasks \nautonomously or semi-autonomously. \nSurgical Robots \nSurgical robots assist surgeons in performing complex procedures with greater precision and \ncontrol. AI-powered surgical robots can enhance dexterity, reduce invasiveness, and improve \npatient outcomes. \nExploration Robots \nExploration robots are designed to operate in hazardous or inaccess",
         "more pervasive, there will be a growing need for regulation and governance to \nensure responsible development and deployment. This includes establishing ethical guidelines, \naddressing \nbias \nand \nfairness, \nand \nprotecting \nprivacy \nand \nsecurity. \nInternational collaborations on standards will be important. \nBy understanding the core concepts, applications, ethical implications, and future directions of \nAI, we can better navigate the opportunities and challenges presented by this transformative \ntechnology. Continued research, responsible development, and thoughtful governance are \nessential for realizing the full potential of AI while mitigating its risks. \nChapter 6: AI and Robotics \nIntegration of AI and Robotics \nThe integration of AI and robotics combines the physical capabilities of robots with the cognitive \nabilities of AI. This synergy enables robots to perform complex tasks, adapt to changing \nenvironments, and interact with humans more naturally. AI-powered robots are use"
        ],
        [
         "8",
         "What is Direct Air Capture (DAC) used for?",
         "DAC technology removes CO2 directly from the atmosphere. The captured CO2 can be stored or used in various applications.",
         "I do not have enough information to answer that.",
         "0.04811383",
         "estion, and enhance \npublic transit. These systems use real-time data to manage traffic signals, provide route \nrecommendations, and support autonomous vehicles. \nEnergy Management \nAI optimizes energy management in smart cities by predicting demand, managing supply, and \npromoting energy efficiency. AI-powered systems enhance grid stability, reduce energy waste, \nand support the integration of renewable energy sources. \nPublic Safety and Security \nAI enhances public safety and security in smart cities by monitoring public spaces, detecting \nanomalies, and supporting emergency response. AI-powered systems improve crime prevention, \nenhance situational awareness, and support rapid response to incidents. \nEnvironmental Monitoring \nAI-powered environmental monitoring systems track air and water quality, detect pollution, and \nsupport environmental protection efforts. These systems provide real-time data, identify \npollution sources, and inform environmental policies. \nChapter 15: The Futu",
         "nd engaging interactions. AI-powered characters, dynamic \nenvironments, and personalized content create immersive and adaptive experiences. \nChapter 17: AI and the Environment \nClimate Change Mitigation \nAI is used to mitigate climate change by optimizing energy consumption, improving renewable \nenergy integration, and supporting carbon capture and storage. AI-powered systems analyze \ndata, predict climate impacts, and inform mitigation strategies. \nPrecision Agriculture \nAI enhances precision agriculture by monitoring crops, optimizing resource use, and predicting \nyields. AI-powered tools improve farming practices, reduce environmental impact, and enhance \nfood security. \nWildlife Conservation \nAI is used in wildlife conservation to monitor populations, track movements, and detect poaching \nactivities. AI-powered systems analyze data from sensors, cameras, and drones, providing \ninsights that support conservation efforts. \n \n \nEnvironmental Monitoring \nAI-powered environmental monito"
        ],
        [
         "9",
         "Is AI currently being used to control nuclear weapons systems?",
         "I don't have enough information to answer that.",
         "I do not have enough information to answer that.",
         "0.9543278",
         "es and ethical frameworks for \nAI development and deployment is crucial. \nWeaponization of AI \nThe potential use of AI in autonomous weapons systems raises significant ethical and security \nconcerns. International discussions and regulations are needed to address the risks associated \nwith AI-powered weapons. \nChapter 5: The Future of Artificial Intelligence \nThe future of AI is likely to be characterized by continued advancements and broader adoption \nacross various domains. Key trends and areas of development include: \nExplainable AI (XAI) \nExplainable AI (XAI) aims to make AI systems more transparent and understandable. XAI \ntechniques are being developed to provide insights into how AI models make decisions, \nenhancing trust and accountability. \nAI at the Edge \nAI at the edge involves processing data locally on devices, rather than relying on cloud-based \nservers. This approach reduces latency, improves privacy, and enables AI applications in \nenvironments with limited connectivity",
         "ts that support conservation efforts. \n \n \nEnvironmental Monitoring \nAI-powered environmental monitoring systems track air and water quality, detect pollution, and \nsupport environmental protection efforts. These systems provide real-time data, identify \npollution sources, and inform environmental policies. \nDisaster Response \nAI enhances disaster response by analyzing data, predicting impacts, and supporting relief \nefforts. AI-powered systems improve situational awareness, optimize resource allocation, and \nenhance coordination among responders. \nChapter 18: The Role of Government and Policy in AI \nAI Strategy and Policy Frameworks \nGovernments around the world are developing AI strategies and policy frameworks to guide the \ndevelopment and deployment of AI. These frameworks address ethical considerations, promote \ninnovation, and ensure responsible AI practices. \nRegulation of AI \nThe regulation of AI is a complex and evolving area. Governments are considering regulations to \naddres"
        ]
       ],
       "shape": {
        "columns": 6,
        "rows": 10
       }
      },
      "text/html": [
       "<div>\n",
       "<style scoped>\n",
       "    .dataframe tbody tr th:only-of-type {\n",
       "        vertical-align: middle;\n",
       "    }\n",
       "\n",
       "    .dataframe tbody tr th {\n",
       "        vertical-align: top;\n",
       "    }\n",
       "\n",
       "    .dataframe thead th {\n",
       "        text-align: right;\n",
       "    }\n",
       "</style>\n",
       "<table border=\"1\" class=\"dataframe\">\n",
       "  <thead>\n",
       "    <tr style=\"text-align: right;\">\n",
       "      <th></th>\n",
       "      <th>Query</th>\n",
       "      <th>Ideal Answer</th>\n",
       "      <th>AI Response</th>\n",
       "      <th>Score</th>\n",
       "      <th>Context 1</th>\n",
       "      <th>Context 2</th>\n",
       "    </tr>\n",
       "  </thead>\n",
       "  <tbody>\n",
       "    <tr>\n",
       "      <th>0</th>\n",
       "      <td>What is 'Explainable AI' and why is it conside...</td>\n",
       "      <td>Explainable AI (XAI) aims to make AI systems m...</td>\n",
       "      <td>Explainable AI (XAI) aims to make AI systems m...</td>\n",
       "      <td>0.9859673</td>\n",
       "      <td>eal-time data, identify \\npollution sources, a...</td>\n",
       "      <td>nt aligns with societal values. Education and ...</td>\n",
       "    </tr>\n",
       "    <tr>\n",
       "      <th>1</th>\n",
       "      <td>Can AI be used to predict earthquakes?</td>\n",
       "      <td>I don't have enough information to answer that.</td>\n",
       "      <td>I do not have enough information to answer that.</td>\n",
       "      <td>0.9543278</td>\n",
       "      <td>ts that support conservation efforts. \\n \\n \\n...</td>\n",
       "      <td>AI. Early AI research focused on problem-solv...</td>\n",
       "    </tr>\n",
       "    <tr>\n",
       "      <th>2</th>\n",
       "      <td>What are some of the ethical concerns related ...</td>\n",
       "      <td>I don't have enough information to answer that.</td>\n",
       "      <td>Bias and fairness, transparency and explainabi...</td>\n",
       "      <td>0.19652365</td>\n",
       "      <td>he entertainment industry uses AI for content ...</td>\n",
       "      <td>inability \\nMany AI systems, particularly deep...</td>\n",
       "    </tr>\n",
       "    <tr>\n",
       "      <th>3</th>\n",
       "      <td>How does AI contribute to personalized medicine?</td>\n",
       "      <td>AI enables personalized medicine by analyzing ...</td>\n",
       "      <td>AI contributes to personalized medicine by ana...</td>\n",
       "      <td>0.9515934</td>\n",
       "      <td>ng areas for improvement. \\nEducational Data M...</td>\n",
       "      <td>is used in self-driving cars, medical imaging...</td>\n",
       "    </tr>\n",
       "    <tr>\n",
       "      <th>4</th>\n",
       "      <td>Does the document mention any specific compani...</td>\n",
       "      <td>I don't have enough information to answer that.</td>\n",
       "      <td>I do not have enough information to answer that.</td>\n",
       "      <td>0.9543278</td>\n",
       "      <td>Understanding Artificial Intelligence \\nChapte...</td>\n",
       "      <td>regulation of AI is a complex and evolving ar...</td>\n",
       "    </tr>\n",
       "    <tr>\n",
       "      <th>5</th>\n",
       "      <td>What is the role of AI in smart grids?</td>\n",
       "      <td>AI optimizes energy distribution in smart grid...</td>\n",
       "      <td>AI optimizes energy management in smart cities...</td>\n",
       "      <td>0.7971191</td>\n",
       "      <td>estion, and enhance \\npublic transit. These sy...</td>\n",
       "      <td>ts that support conservation efforts. \\n \\n \\n...</td>\n",
       "    </tr>\n",
       "    <tr>\n",
       "      <th>6</th>\n",
       "      <td>Can AI write a complete, original novel?</td>\n",
       "      <td>I don't have enough information to answer that.</td>\n",
       "      <td>AI is used to write articles, generate content...</td>\n",
       "      <td>0.04168408</td>\n",
       "      <td>existing art and generate new pieces that exhi...</td>\n",
       "      <td>Understanding Artificial Intelligence \\nChapte...</td>\n",
       "    </tr>\n",
       "    <tr>\n",
       "      <th>7</th>\n",
       "      <td>What is a 'cobot'?</td>\n",
       "      <td>It mentions collaborative settings (cobots) in...</td>\n",
       "      <td>A 'cobot' is a type of industrial robot that w...</td>\n",
       "      <td>0.74303055</td>\n",
       "      <td>adapt to changing \\nenvironments, and interac...</td>\n",
       "      <td>more pervasive, there will be a growing need f...</td>\n",
       "    </tr>\n",
       "    <tr>\n",
       "      <th>8</th>\n",
       "      <td>What is Direct Air Capture (DAC) used for?</td>\n",
       "      <td>DAC technology removes CO2 directly from the a...</td>\n",
       "      <td>I do not have enough information to answer that.</td>\n",
       "      <td>0.04811383</td>\n",
       "      <td>estion, and enhance \\npublic transit. These sy...</td>\n",
       "      <td>nd engaging interactions. AI-powered character...</td>\n",
       "    </tr>\n",
       "    <tr>\n",
       "      <th>9</th>\n",
       "      <td>Is AI currently being used to control nuclear ...</td>\n",
       "      <td>I don't have enough information to answer that.</td>\n",
       "      <td>I do not have enough information to answer that.</td>\n",
       "      <td>0.9543278</td>\n",
       "      <td>es and ethical frameworks for \\nAI development...</td>\n",
       "      <td>ts that support conservation efforts. \\n \\n \\n...</td>\n",
       "    </tr>\n",
       "  </tbody>\n",
       "</table>\n",
       "</div>"
      ],
      "text/plain": [
       "                                               Query  \\\n",
       "0  What is 'Explainable AI' and why is it conside...   \n",
       "1             Can AI be used to predict earthquakes?   \n",
       "2  What are some of the ethical concerns related ...   \n",
       "3   How does AI contribute to personalized medicine?   \n",
       "4  Does the document mention any specific compani...   \n",
       "5             What is the role of AI in smart grids?   \n",
       "6           Can AI write a complete, original novel?   \n",
       "7                                 What is a 'cobot'?   \n",
       "8         What is Direct Air Capture (DAC) used for?   \n",
       "9  Is AI currently being used to control nuclear ...   \n",
       "\n",
       "                                        Ideal Answer  \\\n",
       "0  Explainable AI (XAI) aims to make AI systems m...   \n",
       "1    I don't have enough information to answer that.   \n",
       "2    I don't have enough information to answer that.   \n",
       "3  AI enables personalized medicine by analyzing ...   \n",
       "4    I don't have enough information to answer that.   \n",
       "5  AI optimizes energy distribution in smart grid...   \n",
       "6    I don't have enough information to answer that.   \n",
       "7  It mentions collaborative settings (cobots) in...   \n",
       "8  DAC technology removes CO2 directly from the a...   \n",
       "9    I don't have enough information to answer that.   \n",
       "\n",
       "                                         AI Response       Score  \\\n",
       "0  Explainable AI (XAI) aims to make AI systems m...   0.9859673   \n",
       "1   I do not have enough information to answer that.   0.9543278   \n",
       "2  Bias and fairness, transparency and explainabi...  0.19652365   \n",
       "3  AI contributes to personalized medicine by ana...   0.9515934   \n",
       "4   I do not have enough information to answer that.   0.9543278   \n",
       "5  AI optimizes energy management in smart cities...   0.7971191   \n",
       "6  AI is used to write articles, generate content...  0.04168408   \n",
       "7  A 'cobot' is a type of industrial robot that w...  0.74303055   \n",
       "8   I do not have enough information to answer that.  0.04811383   \n",
       "9   I do not have enough information to answer that.   0.9543278   \n",
       "\n",
       "                                           Context 1  \\\n",
       "0  eal-time data, identify \\npollution sources, a...   \n",
       "1  ts that support conservation efforts. \\n \\n \\n...   \n",
       "2  he entertainment industry uses AI for content ...   \n",
       "3  ng areas for improvement. \\nEducational Data M...   \n",
       "4  Understanding Artificial Intelligence \\nChapte...   \n",
       "5  estion, and enhance \\npublic transit. These sy...   \n",
       "6  existing art and generate new pieces that exhi...   \n",
       "7   adapt to changing \\nenvironments, and interac...   \n",
       "8  estion, and enhance \\npublic transit. These sy...   \n",
       "9  es and ethical frameworks for \\nAI development...   \n",
       "\n",
       "                                           Context 2  \n",
       "0  nt aligns with societal values. Education and ...  \n",
       "1   AI. Early AI research focused on problem-solv...  \n",
       "2  inability \\nMany AI systems, particularly deep...  \n",
       "3   is used in self-driving cars, medical imaging...  \n",
       "4   regulation of AI is a complex and evolving ar...  \n",
       "5  ts that support conservation efforts. \\n \\n \\n...  \n",
       "6  Understanding Artificial Intelligence \\nChapte...  \n",
       "7  more pervasive, there will be a growing need f...  \n",
       "8  nd engaging interactions. AI-powered character...  \n",
       "9  ts that support conservation efforts. \\n \\n \\n...  "
      ]
     },
     "execution_count": 28,
     "metadata": {},
     "output_type": "execute_result"
    }
   ],
   "source": [
    "# Run the asynchronous function and store the DataFrame in df\n",
    "df = asyncio.run(process_validation_data(k=2))\n",
    "df"
   ]
  },
  {
   "cell_type": "code",
   "execution_count": 29,
   "metadata": {},
   "outputs": [
    {
     "name": "stdout",
     "output_type": "stream",
     "text": [
      "0.657020092010498\n",
      "0.736910343170166\n",
      "0.5688803672790528\n",
      "0.5720257759094238\n",
      "0.6665711402893066\n",
      "0.6588428497314454\n",
      "0.656826400756836\n",
      "0.662020492553711\n"
     ]
    }
   ],
   "source": [
    "for k in range(1, 9):\n",
    "    print(asyncio.run(process_validation_data(k=k))['Score'].mean())"
   ]
  },
  {
   "cell_type": "code",
   "execution_count": null,
   "metadata": {},
   "outputs": [],
   "source": []
  }
 ],
 "metadata": {
  "kernelspec": {
   "display_name": "venv",
   "language": "python",
   "name": "python3"
  },
  "language_info": {
   "codemirror_mode": {
    "name": "ipython",
    "version": 3
   },
   "file_extension": ".py",
   "mimetype": "text/x-python",
   "name": "python",
   "nbconvert_exporter": "python",
   "pygments_lexer": "ipython3",
   "version": "3.12.3"
  }
 },
 "nbformat": 4,
 "nbformat_minor": 2
}
